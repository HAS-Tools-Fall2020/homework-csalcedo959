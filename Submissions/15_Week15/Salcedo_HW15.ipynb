{
  "nbformat": 4,
  "nbformat_minor": 0,
  "metadata": {
    "kernelspec": {
      "display_name": "Python [conda env:hastools] *",
      "language": "python",
      "name": "conda-env-hastools-py"
    },
    "language_info": {
      "codemirror_mode": {
        "name": "ipython",
        "version": 3
      },
      "file_extension": ".py",
      "mimetype": "text/x-python",
      "name": "python",
      "nbconvert_exporter": "python",
      "pygments_lexer": "ipython3",
      "version": "3.8.5"
    },
    "colab": {
      "name": "Salcedo_HW15.ipynb",
      "provenance": [],
      "collapsed_sections": []
    }
  },
  "cells": [
    {
      "cell_type": "markdown",
      "metadata": {
        "id": "DPaCckTD7nvU"
      },
      "source": [
        "# Supercomputing - Assignment 15\n",
        "\n",
        "## Developed by Camilo Salcedo for HAS-Tools in Fall 2020\n",
        "### December 7/2020\n"
      ]
    },
    {
      "cell_type": "markdown",
      "metadata": {
        "id": "k_DT6XrU7nvU"
      },
      "source": [
        "## Package import\n",
        "\n"
      ]
    },
    {
      "cell_type": "code",
      "metadata": {
        "id": "vYZmba677nvV"
      },
      "source": [
        "import pandas as pd\n",
        "import matplotlib.pyplot as plt\n",
        "import seaborn as sns\n",
        "import numpy as np\n",
        "from matplotlib.dates import DateFormatter\n",
        "import datetime as dt\n",
        "from sklearn.linear_model import LinearRegression\n",
        "import os\n",
        "\n"
      ],
      "execution_count": 2,
      "outputs": []
    },
    {
      "cell_type": "markdown",
      "metadata": {
        "id": "6ypNd9-a7nvV"
      },
      "source": [
        "## Functions"
      ]
    },
    {
      "cell_type": "code",
      "metadata": {
        "id": "RLaak5QS7nvW"
      },
      "source": [
        "def AR_model_estimate(df, initial_train_date, final_train_date, time_shifts):\n",
        "    \"\"\" Estimate the parameters of an Auto Regressive Model (AR)\n",
        "\n",
        "    Parameters:\n",
        "    ----------\n",
        "    df: Dataframe containing the flow information.\n",
        "    initial_date: Initial date for the training period in format 'YYYY-MM-DD'.\n",
        "    final_date: Final date for the training period in format 'YYYY-MM-DD'.\n",
        "    time_shifts: Number of time shifts to consider in the AR model.\n",
        "\n",
        "    Returns:\n",
        "    ---------\n",
        "    model_intercept: The intercept of the AR Model\n",
        "    model_coefficients: The coefficients of the AR Model (size=[time_shifts,1])\n",
        "    r_sq: Determination Coefficient R2 of the AR Model\n",
        "    \"\"\"\n",
        "\n",
        "    # Define the type of model to use\n",
        "    model_LR = LinearRegression()\n",
        "\n",
        "    # Start the shift listing with the string 'Flow'\n",
        "    shift_list = ['flow']\n",
        "\n",
        "    # Create additional columns to the dataframe to include desired time \\\n",
        "    # shifts\n",
        "    for i in range(1, time_shifts+1):\n",
        "        num_shift = 'flow_tm'+str(i)\n",
        "        df[num_shift] = df['flow'].shift(i)\n",
        "        shift_list.append(num_shift)\n",
        "\n",
        "    # Create a dataframe of training data including all columns of df\n",
        "    train_data = df[initial_train_date:final_train_date][shift_list]\n",
        "\n",
        "    # Create the dependent array for the AR model\n",
        "    y_data = train_data['flow']\n",
        "\n",
        "    # Create the set of independent variables for the AR Model.\n",
        "    x_data = train_data[shift_list[1:len(shift_list)]]\n",
        "\n",
        "    # Fit the corresponding AR Model\n",
        "    model_LR.fit(x_data, y_data)\n",
        "\n",
        "    # Save the results of the AR Model\n",
        "    r_sq = np.round(model_LR.score(x_data, y_data), 4)\n",
        "    model_intercept = np.round(model_LR.intercept_, 2)\n",
        "    model_coefficients = np.round(model_LR.coef_, 2)\n",
        "\n",
        "    # Print the results to the user\n",
        "    print('AR Model with ', time_shifts, ' shifts')\n",
        "    print('coefficient of determination:', r_sq)\n",
        "    print('intercept:', model_intercept)\n",
        "    print('slope:', model_coefficients)\n",
        "\n",
        "    return model_intercept, model_coefficients, r_sq"
      ],
      "execution_count": 3,
      "outputs": []
    },
    {
      "cell_type": "markdown",
      "metadata": {
        "id": "rcQ88Y7d7nvW"
      },
      "source": [
        "#### Flow Data Retrieving:"
      ]
    },
    {
      "cell_type": "code",
      "metadata": {
        "id": "iIU1CXGu8Ftn"
      },
      "source": [
        "def forecast_flows(flow_daily, time_shifts, start_train_date, end_train_date,\n",
        "                   start_for_date, end_for_date, seasonal):\n",
        "    \"\"\" Forecast the flows for a given number of periods based on flow timeseries\n",
        "\n",
        "    Parameters:\n",
        "    -----------\n",
        "    flow_daily: Dataframe containing the daily flow information. The index of \\\n",
        "            the df should be the date and this df should only include 'flow'.\n",
        "    time_shifts: Number of time shifts to consider in the AR Model\n",
        "    start_train_date: Initial date for the training period in format\n",
        "                      'YYYY-MM-DD'.\n",
        "    end_train_date: Final date for the training period in format 'YYYY-MM-DD'.\n",
        "    start_for_date: Initial date for the forecast in format 'YYYY-MM-DD'.\n",
        "    end_for_date: Final date for the forecast in format 'YYYY-MM-DD'.\n",
        "    seasonal: Binary condition telling the scale of time of the forecast.\n",
        "\n",
        "    Returns:\n",
        "    -----------\n",
        "    flow_daily: Dataframe with the forecasts in a daily basis\n",
        "    flow_weekly: Dataframe with the forecasts in a weekly basis\n",
        "    model_intercept: Intercept from the AR Model\n",
        "    model_coefficients: List of coefficients from the AR Model\n",
        "    \"\"\"\n",
        "\n",
        "    # Get the location (index) for the day before the start forecasting \\\n",
        "    # date in the original dataframe (data)\n",
        "\n",
        "    temp_data = flow_daily\n",
        "    temp_data = temp_data.reset_index()\n",
        "    temp_data['datetime'] = flow_daily.index  # .strftime('%Y-%m-%d')\n",
        "\n",
        "    if seasonal == 'week':\n",
        "        date_before_start = (pd.to_datetime(start_for_date) +\n",
        "                             dt.timedelta(days=-1)).date()\n",
        "        index_lag1 = temp_data.loc[temp_data.datetime == str(\n",
        "            date_before_start)].index[0]\n",
        "    elif seasonal == 'seasonal':\n",
        "        flow_daily = flow_daily.resample(\"W-SUN\", closed='left', label='left')\\\n",
        "            .mean()\n",
        "        index_lag1 = flow_daily.shape[0]-1\n",
        "        print(index_lag1)\n",
        "    else:\n",
        "        print('Please choose a valid time horizon for forecast')\n",
        "\n",
        "    # Create a list of dates (daily) for the forecast period\n",
        "    if seasonal == 'week':\n",
        "        forecast_period = pd.date_range(start=start_for_date,\n",
        "                                        end=end_for_date, freq='D')\n",
        "    elif seasonal == 'seasonal':\n",
        "        forecast_period = pd.date_range(start=start_for_date,\n",
        "                                        end=end_for_date, freq='W')\n",
        "\n",
        "    # Estimate the parameters for the best-fit AR Model\n",
        "    model_intercept, model_coefficients, r_sq = AR_model_estimate(\n",
        "        flow_daily, start_train_date, end_train_date, time_shifts)\n",
        "\n",
        "    # Calculate the Forecasts for the indicated time range based on the \\\n",
        "    # selected timeshifts.\n",
        "    # \"lag_i\" is used to extract the flow value based on the order of the \\\n",
        "    # AR Model using the index located for the day before the start of \\\n",
        "    # forecast.\n",
        "    lag_i = index_lag1+1\n",
        "\n",
        "    # Initialize the variable for the forecasts\n",
        "    forecast_val = 0\n",
        "\n",
        "    # Using two loops, the forecasts are calculated between \\\n",
        "    # the desired range of dates, and then appended to the dataframe\n",
        "\n",
        "    for i in range(0, forecast_period.shape[0]):\n",
        "        for k in range(0, time_shifts):\n",
        "            forecast_val += model_coefficients[k] * \\\n",
        "                flow_daily.iloc[lag_i-(k+1)]['flow']\n",
        "        forecast_val += model_intercept\n",
        "        lag_i += 1\n",
        "        flow_daily.loc[forecast_period[i], ['flow']] = forecast_val\n",
        "        forecast_val = 0\n",
        "\n",
        "    # Resampling the forecast in a weekly basis, starting on Sundays and \\\n",
        "    # setting the labels and closed interval at the left\n",
        "    if seasonal == 'week':\n",
        "        flow_weekly = flow_daily.loc[start_for_date:end_for_date][['flow']].\\\n",
        "            resample(\"W-SUN\", closed='left', label='left').mean()\n",
        "    elif seasonal == 'seasonal':\n",
        "        flow_weekly = flow_daily.loc[start_for_date:end_for_date][['flow']]\n",
        "\n",
        "    # Print the forecasts for the competition\n",
        "    for i in range(flow_weekly.shape[0]):\n",
        "        print('\\n Week #', str(i+1), '-', flow_weekly.iloc[i].name, '(cfs): ',\n",
        "              np.round(flow_weekly.iloc[i]['flow'], 2))\n",
        "\n",
        "    return flow_daily, flow_weekly, model_intercept, model_coefficients"
      ],
      "execution_count": 7,
      "outputs": []
    },
    {
      "cell_type": "code",
      "metadata": {
        "id": "Gvq97zqc7nvW"
      },
      "source": [
        "# %% Data Retrieval for Stremflow (USGS)\n",
        "\n",
        "# URL Variables\n",
        "site = '09506000'\n",
        "start = '1989-01-01'  # Adjusted according to information availability\n",
        "end = '2020-12-05'\n",
        "url = \"https://waterdata.usgs.gov/nwis/dv?cb_00060=on&format=rdb&site_no=\" + \\\n",
        "    site + \"&referred_module=sw&period=&begin_date=\" + start + \"&end_date=\" +\\\n",
        "    end\n",
        "\n",
        "stream_data = pd.read_table(url, skiprows=30, names=['agency_cd', 'site_no',\n",
        "                                                     'datetime', 'flow',\n",
        "                                                     'code'],\n",
        "                            parse_dates=['datetime'], index_col='datetime')\n",
        "\n",
        "stream_data.index = stream_data.index.strftime('%Y-%m-%d')\n",
        "stream_data = stream_data.set_index(pd.to_datetime(stream_data.index))"
      ],
      "execution_count": 8,
      "outputs": []
    },
    {
      "cell_type": "markdown",
      "metadata": {
        "id": "GEFogT9Q7nvW"
      },
      "source": [
        "### Results of the Forecasts\n",
        "\n",
        "The results after running the AR models described before are presented. First, the weekly forecasts and then the seasonal results.\n",
        "\n",
        "#### Weekly Results\n"
      ]
    },
    {
      "cell_type": "code",
      "metadata": {
        "scrolled": true,
        "colab": {
          "base_uri": "https://localhost:8080/"
        },
        "id": "Ndx1tnkF7nvW",
        "outputId": "3f636f9a-abaa-4ae2-b1b6-94d072740577"
      },
      "source": [
        "# Common dataframe for both forecasts including only the flow column\n",
        "daily_flow = stream_data[['flow']]\n",
        "daily_flow = daily_flow.set_index(pd.to_datetime(stream_data.index))\n",
        "\n",
        "# Two-week forecast\n",
        "\n",
        "# Training period for the AR Model\n",
        "start_train_date = '2017-11-01'\n",
        "end_train_date = '2017-12-12'\n",
        "\n",
        "# Forecasting period\n",
        "start_for_date = '2020-12-06'\n",
        "end_for_date = '2020-12-19'\n",
        "\n",
        "# Used parameters for the model\n",
        "# Number of shifts\n",
        "time_shifts = 3\n",
        "\n",
        "# Function Call\n",
        "flow_daily_2w, flow_weekly_2w, model_intercept, model_coefficients = \\\n",
        "    forecast_flows(daily_flow, time_shifts, start_train_date,\n",
        "                       end_train_date, start_for_date, end_for_date, 'week')"
      ],
      "execution_count": 13,
      "outputs": [
        {
          "output_type": "stream",
          "text": [
            "AR Model with  3  shifts\n",
            "coefficient of determination: 0.9819\n",
            "intercept: 5.18\n",
            "slope: [ 0.99 -0.28  0.27]\n",
            "\n",
            " Week # 1 - 2020-12-06 00:00:00 (cfs):  167.58\n",
            "\n",
            " Week # 2 - 2020-12-13 00:00:00 (cfs):  177.18\n"
          ],
          "name": "stdout"
        }
      ]
    },
    {
      "cell_type": "markdown",
      "metadata": {
        "id": "fywhhbEO7nvX"
      },
      "source": [
        "#### Seasonal Results"
      ]
    },
    {
      "cell_type": "code",
      "metadata": {
        "colab": {
          "base_uri": "https://localhost:8080/"
        },
        "id": "08Z8bnMQ7nvX",
        "outputId": "3d264426-94ed-4165-a6a4-c0af207122db"
      },
      "source": [
        "# Seasonal Forecast for weeks between Aug. 22 to Oct. 31\n",
        "\n",
        "# Training period for the AR Model for first 6 weeks\n",
        "start_train_date = '2017-08-25'\n",
        "end_train_date = '2017-11-17'\n",
        "\n",
        "# Forecasting period for first 6 weeks\n",
        "start_for_date = '2020-08-22'\n",
        "end_for_date = '2020-10-31'\n",
        "\n",
        "# Number of shifts\n",
        "time_shifts = 3\n",
        "\n",
        "# Common dataframe for both forecasts including only the flow column\n",
        "daily_flow_16w_1 = stream_data.loc['1989-01-01':start_for_date][['flow']]\n",
        "\n",
        "# Function Call\n",
        "flow_daily_seas1, flow_weekly_seas1, model_intercept16_1, \\\n",
        "    model_coefficients16_1 = forecast_flows(daily_flow_16w_1, time_shifts,\n",
        "                                                start_train_date, end_train_date, start_for_date, end_for_date,\n",
        "                                                'seasonal')\n"
      ],
      "execution_count": 9,
      "outputs": [
        {
          "output_type": "stream",
          "text": [
            "1650\n",
            "AR Model with  3  shifts\n",
            "coefficient of determination: 0.8561\n",
            "intercept: 9.25\n",
            "slope: [ 1.32 -0.31 -0.06]\n",
            "\n",
            " Week # 1 - 2020-08-23 00:00:00 (cfs):  42.34\n",
            "\n",
            " Week # 2 - 2020-08-30 00:00:00 (cfs):  52.05\n",
            "\n",
            " Week # 3 - 2020-09-06 00:00:00 (cfs):  62.71\n",
            "\n",
            " Week # 4 - 2020-09-13 00:00:00 (cfs):  73.35\n",
            "\n",
            " Week # 5 - 2020-09-20 00:00:00 (cfs):  83.5\n",
            "\n",
            " Week # 6 - 2020-09-27 00:00:00 (cfs):  92.98\n",
            "\n",
            " Week # 7 - 2020-10-04 00:00:00 (cfs):  101.69\n",
            "\n",
            " Week # 8 - 2020-10-11 00:00:00 (cfs):  109.65\n",
            "\n",
            " Week # 9 - 2020-10-18 00:00:00 (cfs):  116.88\n",
            "\n",
            " Week # 10 - 2020-10-25 00:00:00 (cfs):  123.45\n"
          ],
          "name": "stdout"
        }
      ]
    },
    {
      "cell_type": "code",
      "metadata": {
        "colab": {
          "base_uri": "https://localhost:8080/"
        },
        "id": "UHaBBurt7nvX",
        "outputId": "2114d984-8925-425f-958d-9d2819a3bd1a"
      },
      "source": [
        "# Seasonal Forecast for weeks between Nov. 01 to Dec. 12\n",
        "# NOTE: I did not use the outputs printed by the model to make the forecasts.\\\n",
        "# Rather, I used the model determined by the function.\n",
        "\n",
        "# Training period for the AR Model for first 6 weeks\n",
        "start_train_date = '2017-10-01'\n",
        "end_train_date = '2017-12-15'\n",
        "\n",
        "# Forecasting period for first 6 weeks\n",
        "start_for_date = '2020-11-01'\n",
        "end_for_date = '2020-12-12'\n",
        "\n",
        "# Number of shifts\n",
        "time_shifts = 3\n",
        "\n",
        "# Common dataframe for both forecasts including only the flow column\n",
        "daily_flow_16w_2 = flow_daily_seas1.loc['1989-01-01':start_for_date][['flow']]\n",
        "\n",
        "# Function Call\n",
        "flow_daily_seas2, flow_weekly_seas2, model_intercept16_2, model_coefficients16_2 = \\\n",
        "    forecast_flows(daily_flow_16w_2, time_shifts, start_train_date,\n",
        "                       end_train_date, start_for_date, end_for_date, 'seasonal')"
      ],
      "execution_count": 10,
      "outputs": [
        {
          "output_type": "stream",
          "text": [
            "1660\n",
            "AR Model with  3  shifts\n",
            "coefficient of determination: 0.9886\n",
            "intercept: 11.26\n",
            "slope: [ 0.94  0.55 -0.54]\n",
            "\n",
            " Week # 1 - 2020-11-01 00:00:00 (cfs):  132.37\n",
            "\n",
            " Week # 2 - 2020-11-08 00:00:00 (cfs):  140.47\n",
            "\n",
            " Week # 3 - 2020-11-15 00:00:00 (cfs):  149.45\n",
            "\n",
            " Week # 4 - 2020-11-22 00:00:00 (cfs):  157.52\n",
            "\n",
            " Week # 5 - 2020-11-29 00:00:00 (cfs):  165.67\n",
            "\n",
            " Week # 6 - 2020-12-06 00:00:00 (cfs):  172.92\n"
          ],
          "name": "stdout"
        }
      ]
    },
    {
      "cell_type": "markdown",
      "metadata": {
        "id": "jnhnUyuu7nvX"
      },
      "source": [
        "### Performance of the Forecasts\n",
        "\n",
        "#### Weekly Forecasts\n"
      ]
    },
    {
      "cell_type": "code",
      "metadata": {
        "colab": {
          "base_uri": "https://localhost:8080/",
          "height": 654
        },
        "id": "d_UGZM7v7nvX",
        "outputId": "2cf8cf1a-3a94-44c2-f3af-d38363cf10af"
      },
      "source": [
        "# Plot the Weekly Forecasts against the observed values\n",
        "week_obs=stream_data.loc['2020-08-23':'2020-12-05'][['flow']].\\\n",
        "            resample(\"W-SUN\", closed='left', label='left').mean()\n",
        "weekly_for = [60, 192.61, 218.38, 56.39, 66.34, 94.16, 70, 75.57, 88.98, 129.29, 139.39, 165.12, 158.23,176.37, 167.58]\n",
        "\n",
        "fig, ax = plt.subplots(figsize=(10,10))\n",
        "ax.plot(week_obs['flow'], color='darkblue', linewidth=2, ls=':',\n",
        "        marker='o', label='Observed')\n",
        "ax.plot(week_obs.index, weekly_for, color='cyan', linewidth=2,\n",
        "        marker='*', label='Forecasted')\n",
        "ax.set_ylabel('Average Daily Flow [cfs]', fontweight='bold')\n",
        "ax.set_xlabel('Date', fontweight='bold')\n",
        "ax.set_ylim([25,175])\n",
        "ax.set_title('Comparison between Weekly Forecast and Observed Flow \\n',\n",
        "    fontweight='bold')\n",
        "ax.legend()"
      ],
      "execution_count": 11,
      "outputs": [
        {
          "output_type": "execute_result",
          "data": {
            "text/plain": [
              "<matplotlib.legend.Legend at 0x7fdb8ea62390>"
            ]
          },
          "metadata": {
            "tags": []
          },
          "execution_count": 11
        },
        {
          "output_type": "display_data",
          "data": {
            "image/png": "[encoded data removed]",
            "text/plain": [
              "<Figure size 720x720 with 1 Axes>"
            ]
          },
          "metadata": {
            "tags": [],
            "needs_background": "light"
          }
        }
      ]
    },
    {
      "cell_type": "markdown",
      "metadata": {
        "id": "MCZY5tLP7nvX"
      },
      "source": [
        "#### Seasonal Forecasts\n",
        "  "
      ]
    },
    {
      "cell_type": "code",
      "metadata": {
        "colab": {
          "base_uri": "https://localhost:8080/",
          "height": 654
        },
        "id": "xfN7Cn5O7nvX",
        "outputId": "d756ef52-38a6-41c0-8f37-594cd2d7ad4d"
      },
      "source": [
        "# Plot the Seasonal Forecasts against the observed values\n",
        "week_obs=stream_data.loc['2020-08-23':'2020-12-05'][['flow']].\\\n",
        "            resample(\"W-SUN\", closed='left', label='left').mean()\n",
        "seasonal_for = flow_weekly_seas1.append(flow_weekly_seas2)\n",
        "\n",
        "fig, ax = plt.subplots(figsize=(10,10))\n",
        "ax.plot(week_obs['flow'], color='darkblue', linewidth=2, ls=':',\n",
        "        marker='o', label='Observed')\n",
        "ax.plot(seasonal_for.loc['2020-08-23':'2020-11-15']['flow'], color='green', linewidth=2,\n",
        "        marker='*', label='Forecasted')\n",
        "ax.set_ylabel('Average Daily Flow [cfs]', fontweight='bold')\n",
        "ax.set_xlabel('Date', fontweight='bold')\n",
        "ax.set_ylim([25,175])\n",
        "ax.set_title('Comparison between Seasonal Forecast and Observed Flow \\n',\n",
        "    fontweight='bold')\n",
        "ax.legend()\n"
      ],
      "execution_count": 12,
      "outputs": [
        {
          "output_type": "execute_result",
          "data": {
            "text/plain": [
              "<matplotlib.legend.Legend at 0x7fdb8e5a3da0>"
            ]
          },
          "metadata": {
            "tags": []
          },
          "execution_count": 12
        },
        {
          "output_type": "display_data",
          "data": {
            "image/png": "[encoded data removed]",
            "text/plain": [
              "<Figure size 720x720 with 1 Axes>"
            ]
          },
          "metadata": {
            "tags": [],
            "needs_background": "light"
          }
        }
      ]
    }
  ]
}